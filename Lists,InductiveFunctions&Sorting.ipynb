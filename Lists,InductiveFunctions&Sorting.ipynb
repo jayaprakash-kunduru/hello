{
  "nbformat": 4,
  "nbformat_minor": 0,
  "metadata": {
    "colab": {
      "name": "Lists,InductiveFunctions&Sorting.ipynb",
      "provenance": [],
      "collapsed_sections": [],
      "authorship_tag": "ABX9TyP3L32gczthTWzqqdEisf9d",
      "include_colab_link": true
    },
    "kernelspec": {
      "name": "python3",
      "display_name": "Python 3"
    },
    "language_info": {
      "name": "python"
    }
  },
  "cells": [
    {
      "cell_type": "markdown",
      "metadata": {
        "id": "view-in-github",
        "colab_type": "text"
      },
      "source": [
        "<a href=\"https://colab.research.google.com/github/Jayjake1/hello/blob/master/Lists%2CInductiveFunctions%26Sorting.ipynb\" target=\"_parent\"><img src=\"https://colab.research.google.com/assets/colab-badge.svg\" alt=\"Open In Colab\"/></a>"
      ]
    },
    {
      "cell_type": "code",
      "execution_count": null,
      "metadata": {
        "colab": {
          "base_uri": "https://localhost:8080/"
        },
        "id": "0nIMLgy726zP",
        "outputId": "bb9b8b6e-9ced-4218-f45b-96f8769868b2"
      },
      "outputs": [
        {
          "output_type": "execute_result",
          "data": {
            "text/plain": [
              "[]"
            ]
          },
          "metadata": {},
          "execution_count": 8
        }
      ],
      "source": [
        "n=[i for i in range(1,10,-1)] # because this produces from start to end, where it should be b/w 1 to 10, as its -1 one it can't generate it\n",
        "n"
      ]
    },
    {
      "cell_type": "code",
      "source": [
        "[i for i in range(10,1,-1)]"
      ],
      "metadata": {
        "colab": {
          "base_uri": "https://localhost:8080/"
        },
        "id": "5Wq9G4hI3O0V",
        "outputId": "dbbadcbe-3837-408e-e1e4-2ad23fbe37aa"
      },
      "execution_count": null,
      "outputs": [
        {
          "output_type": "execute_result",
          "data": {
            "text/plain": [
              "[10, 9, 8, 7, 6, 5, 4, 3, 2]"
            ]
          },
          "metadata": {},
          "execution_count": 9
        }
      ]
    },
    {
      "cell_type": "code",
      "source": [
        "[i for i in range(1,10,2)] # i , i+k"
      ],
      "metadata": {
        "colab": {
          "base_uri": "https://localhost:8080/"
        },
        "id": "VWGeRCdg33eW",
        "outputId": "a10bca78-e61a-4c44-963d-fe199a1466eb"
      },
      "execution_count": null,
      "outputs": [
        {
          "output_type": "execute_result",
          "data": {
            "text/plain": [
              "[1, 3, 5, 7, 9]"
            ]
          },
          "metadata": {},
          "execution_count": 10
        }
      ]
    },
    {
      "cell_type": "code",
      "source": [
        "[i for i in range(10,1,-3)]"
      ],
      "metadata": {
        "colab": {
          "base_uri": "https://localhost:8080/"
        },
        "id": "4zkkhyTx36EM",
        "outputId": "e637a8af-8a5b-4553-cc62-d028d4a16359"
      },
      "execution_count": null,
      "outputs": [
        {
          "output_type": "execute_result",
          "data": {
            "text/plain": [
              "[10, 7, 4]"
            ]
          },
          "metadata": {},
          "execution_count": 11
        }
      ]
    },
    {
      "cell_type": "code",
      "source": [
        "[range(10)]"
      ],
      "metadata": {
        "colab": {
          "base_uri": "https://localhost:8080/"
        },
        "id": "YDz56iMe4CMC",
        "outputId": "8a38b66f-f780-42d9-e856-389aac0dfdd1"
      },
      "execution_count": null,
      "outputs": [
        {
          "output_type": "execute_result",
          "data": {
            "text/plain": [
              "[range(0, 10)]"
            ]
          },
          "metadata": {},
          "execution_count": 13
        }
      ]
    },
    {
      "cell_type": "code",
      "source": [
        "list(range(10))  # list function"
      ],
      "metadata": {
        "colab": {
          "base_uri": "https://localhost:8080/"
        },
        "id": "YjENOQbq4zqD",
        "outputId": "e18e43a8-2e0f-4c17-9451-70218d09c659"
      },
      "execution_count": null,
      "outputs": [
        {
          "output_type": "execute_result",
          "data": {
            "text/plain": [
              "[0, 1, 2, 3, 4, 5, 6, 7, 8, 9]"
            ]
          },
          "metadata": {},
          "execution_count": 14
        }
      ]
    },
    {
      "cell_type": "code",
      "source": [
        "bin(10) # type conversions"
      ],
      "metadata": {
        "colab": {
          "base_uri": "https://localhost:8080/",
          "height": 35
        },
        "id": "hdv0YnFK44ID",
        "outputId": "70ccca62-2799-4bb6-fac6-c0de25f8121a"
      },
      "execution_count": null,
      "outputs": [
        {
          "output_type": "execute_result",
          "data": {
            "application/vnd.google.colaboratory.intrinsic+json": {
              "type": "string"
            },
            "text/plain": [
              "'0b1010'"
            ]
          },
          "metadata": {},
          "execution_count": 15
        }
      ]
    },
    {
      "cell_type": "code",
      "source": [
        "bin(10) # gives binary representation of only int"
      ],
      "metadata": {
        "colab": {
          "base_uri": "https://localhost:8080/",
          "height": 35
        },
        "id": "ZXN4P6JD59mJ",
        "outputId": "0791ad5f-a3d9-4ca2-bbcf-0972d01965f7"
      },
      "execution_count": null,
      "outputs": [
        {
          "output_type": "execute_result",
          "data": {
            "application/vnd.google.colaboratory.intrinsic+json": {
              "type": "string"
            },
            "text/plain": [
              "'0b1010'"
            ]
          },
          "metadata": {},
          "execution_count": 18
        }
      ]
    },
    {
      "cell_type": "code",
      "source": [
        "def make_binary(s):\n",
        "    return \"\".join([format(ord(c), '08b') for c in s])"
      ],
      "metadata": {
        "id": "uKa0d_wv6RaX"
      },
      "execution_count": null,
      "outputs": []
    },
    {
      "cell_type": "code",
      "source": [
        "make_binary('AB')"
      ],
      "metadata": {
        "colab": {
          "base_uri": "https://localhost:8080/",
          "height": 35
        },
        "id": "SfdchpRF6lvs",
        "outputId": "38f025ab-1a70-4265-88e2-d8aeb7dd26b7"
      },
      "execution_count": null,
      "outputs": [
        {
          "output_type": "execute_result",
          "data": {
            "application/vnd.google.colaboratory.intrinsic+json": {
              "type": "string"
            },
            "text/plain": [
              "'0100000101000010'"
            ]
          },
          "metadata": {},
          "execution_count": 20
        }
      ]
    },
    {
      "cell_type": "code",
      "source": [
        "make_binary('A')"
      ],
      "metadata": {
        "colab": {
          "base_uri": "https://localhost:8080/",
          "height": 35
        },
        "id": "mv5WDExW6pWg",
        "outputId": "c42687d6-6349-460d-ea0e-943383382771"
      },
      "execution_count": null,
      "outputs": [
        {
          "output_type": "execute_result",
          "data": {
            "application/vnd.google.colaboratory.intrinsic+json": {
              "type": "string"
            },
            "text/plain": [
              "'01000001'"
            ]
          },
          "metadata": {},
          "execution_count": 21
        }
      ]
    },
    {
      "cell_type": "markdown",
      "source": [
        "## Manipualating Lists"
      ],
      "metadata": {
        "id": "fCh3k8JP9r4F"
      }
    },
    {
      "cell_type": "code",
      "source": [
        "list1 = [1,2,3,4]\n",
        "list2 = list1\n",
        "list2.append(6)\n",
        "print(list1, list2)  # changing implicitly, so there will be no change "
      ],
      "metadata": {
        "colab": {
          "base_uri": "https://localhost:8080/"
        },
        "id": "BJdiEqaD6sA_",
        "outputId": "e07919fd-eb6e-499d-f411-68881f496185"
      },
      "execution_count": null,
      "outputs": [
        {
          "output_type": "stream",
          "name": "stdout",
          "text": [
            "[1, 2, 3, 4, 6] [1, 2, 3, 4, 6]\n"
          ]
        }
      ]
    },
    {
      "cell_type": "code",
      "source": [
        "list1 = [1,2,3,4]\n",
        "list2 = list1\n",
        "list2 = list2[0:2]+[7]+list2[3:]  # changing because +/concatination creates a new  list\n",
        "print(list1, list2)"
      ],
      "metadata": {
        "colab": {
          "base_uri": "https://localhost:8080/"
        },
        "id": "btVKmy0ZCiGm",
        "outputId": "fd35aae8-9c00-40d8-9179-7191ebd90a02"
      },
      "execution_count": null,
      "outputs": [
        {
          "output_type": "stream",
          "name": "stdout",
          "text": [
            "[1, 2, 3, 4] [1, 2, 7, 4]\n"
          ]
        }
      ]
    },
    {
      "cell_type": "code",
      "source": [
        "list1 = [1,2,3,4]\n",
        "list2 = list1\n",
        "list2.extend([9,8,6])  # implict\n",
        "print(list1, list2)"
      ],
      "metadata": {
        "colab": {
          "base_uri": "https://localhost:8080/"
        },
        "id": "Q-C2KQWVC1yV",
        "outputId": "de696f4e-b709-419b-967f-1b5ca679ae7d"
      },
      "execution_count": null,
      "outputs": [
        {
          "output_type": "stream",
          "name": "stdout",
          "text": [
            "[1, 2, 3, 4, 9, 8, 6] [1, 2, 3, 4, 9, 8, 6]\n"
          ]
        }
      ]
    },
    {
      "cell_type": "code",
      "source": [
        "list1 = [1,2,3,4]\n",
        "list2 = list1\n",
        "list2.extend(list1)  # implict\n",
        "print(list1, list2)"
      ],
      "metadata": {
        "colab": {
          "base_uri": "https://localhost:8080/"
        },
        "id": "911GIm7iDTV1",
        "outputId": "6630a573-af45-4452-c397-2a7ba4b7d97f"
      },
      "execution_count": null,
      "outputs": [
        {
          "output_type": "stream",
          "name": "stdout",
          "text": [
            "[1, 2, 3, 4, 1, 2, 3, 4] [1, 2, 3, 4, 1, 2, 3, 4]\n"
          ]
        }
      ]
    },
    {
      "cell_type": "code",
      "source": [
        "list1.remove(4)  # removes first occurance\n",
        "print(list1, list2)"
      ],
      "metadata": {
        "colab": {
          "base_uri": "https://localhost:8080/"
        },
        "id": "TLjFbYMFDeIn",
        "outputId": "d1468570-fa6e-4414-a1c5-d15ab2fd9a0c"
      },
      "execution_count": null,
      "outputs": [
        {
          "output_type": "stream",
          "name": "stdout",
          "text": [
            "[1, 2, 3, 1, 2, 3, 4] [1, 2, 3, 1, 2, 3, 4]\n"
          ]
        }
      ]
    },
    {
      "cell_type": "code",
      "source": [
        "list1.index(1) # first occurance from left"
      ],
      "metadata": {
        "colab": {
          "base_uri": "https://localhost:8080/"
        },
        "id": "cTJuEUsoDplw",
        "outputId": "6b229fc7-eff2-479d-ee21-4c8a5de265d7"
      },
      "execution_count": null,
      "outputs": [
        {
          "output_type": "execute_result",
          "data": {
            "text/plain": [
              "0"
            ]
          },
          "metadata": {},
          "execution_count": 29
        }
      ]
    },
    {
      "cell_type": "code",
      "source": [
        "# no rindex, probably removed in updates of 3.6+\n",
        "1 in list1"
      ],
      "metadata": {
        "colab": {
          "base_uri": "https://localhost:8080/"
        },
        "id": "YiPJYBABFbXV",
        "outputId": "b37d1992-64b3-49e4-fcd0-bf883e6edec6"
      },
      "execution_count": null,
      "outputs": [
        {
          "output_type": "execute_result",
          "data": {
            "text/plain": [
              "True"
            ]
          },
          "metadata": {},
          "execution_count": 34
        }
      ]
    },
    {
      "cell_type": "markdown",
      "source": [
        "## Breaking out of for loops"
      ],
      "metadata": {
        "id": "JMFhzmEvGV6e"
      }
    },
    {
      "cell_type": "code",
      "source": [
        "# natural strategy to find value in list\n",
        "\n",
        "def finder(l,v):\n",
        "  pos = -1\n",
        "  for i in range(len(l)):   # since we used for pos, it returns a value, it is a best practice that a function should return something\n",
        "    if l[i] == v:\n",
        "      pos = i\n",
        "      break\n",
        "\n",
        "  return pos    "
      ],
      "metadata": {
        "id": "Ci3M12o6FkiC"
      },
      "execution_count": null,
      "outputs": []
    },
    {
      "cell_type": "markdown",
      "source": [
        "### python allows us to use 'else' for loops also"
      ],
      "metadata": {
        "id": "z2Sw1EQlJgtS"
      }
    },
    {
      "cell_type": "code",
      "source": [
        "def finder1(l,v):\n",
        "  # pos = -1                  # here 'else:' helps in normal termination\n",
        "  for i in range(len(l)):   # since we used for pos, it returns a value, it is a best practice that a function should return something\n",
        "    if l[i] == v:\n",
        "      pos = i\n",
        "      break\n",
        "  else:\n",
        "    pos = -1    \n",
        "\n",
        "  return pos   "
      ],
      "metadata": {
        "id": "tHGRQgZkJopo"
      },
      "execution_count": null,
      "outputs": []
    },
    {
      "cell_type": "code",
      "source": [
        "finder1([1,2,3,4,5,6],4)"
      ],
      "metadata": {
        "colab": {
          "base_uri": "https://localhost:8080/"
        },
        "id": "B7KN-6noKDUf",
        "outputId": "f3c88d58-c97a-433f-a2c8-8d231d28a9aa"
      },
      "execution_count": null,
      "outputs": [
        {
          "output_type": "execute_result",
          "data": {
            "text/plain": [
              "3"
            ]
          },
          "metadata": {},
          "execution_count": 36
        }
      ]
    },
    {
      "cell_type": "markdown",
      "source": [
        "## Arrays vs list, Binary Search"
      ],
      "metadata": {
        "id": "0PTLoaqDPu6n"
      }
    },
    {
      "cell_type": "code",
      "source": [
        "def bin_search(seq,v,l,r):\n",
        "  if r-l == 0:\n",
        "    return False\n",
        "  mid = (l+r)//2\n",
        "  if v == seq[mid]:\n",
        "    return seq[mid]\n",
        "  if v<seq[mid]:\n",
        "    return bin_search(seq,v,l,r)\n",
        "  else:\n",
        "    return bin_search(seq,v,l,r)    "
      ],
      "metadata": {
        "id": "Wcex8XbUKKxn"
      },
      "execution_count": null,
      "outputs": []
    },
    {
      "cell_type": "markdown",
      "source": [
        "## Efficiency"
      ],
      "metadata": {
        "id": "XdrEjKS_3s14"
      }
    },
    {
      "cell_type": "code",
      "source": [
        "O(n)"
      ],
      "metadata": {
        "id": "N9uBmrTv0WW6"
      },
      "execution_count": null,
      "outputs": []
    },
    {
      "cell_type": "markdown",
      "source": [
        "## Selection Sort\n",
        "\n",
        "Searching becomes efficient when there is sorted list"
      ],
      "metadata": {
        "id": "xwzJY36C9deZ"
      }
    },
    {
      "cell_type": "code",
      "source": [
        "def select_sort(l):\n",
        "  for start in range(l):\n",
        "    minpos = start\n",
        "    for i in range(start,len(l)):\n",
        "      if l[i]<l[minpos]:\n",
        "        minpos = i\n",
        "\n",
        "    (l[start],l[minpos]) = (l[minpos],l[start])    "
      ],
      "metadata": {
        "id": "qdhSnAOQ9qEg"
      },
      "execution_count": null,
      "outputs": []
    },
    {
      "cell_type": "markdown",
      "source": [
        "## Insertion sort"
      ],
      "metadata": {
        "id": "fdAexEANGlhz"
      }
    },
    {
      "cell_type": "code",
      "source": [
        "def inser_sort(seq):\n",
        "  for sliceEnd in range(len(seq)):\n",
        "    pos = sliceEnd\n",
        "    while pos>0 and seq[pos]<seq[pos-1]:\n",
        "      (seq[pos],sep[pos-1]) = (seq[pos-1],seq[pos])\n",
        "      pos = pos - 1\n"
      ],
      "metadata": {
        "id": "U0kwAK_7GoDl"
      },
      "execution_count": null,
      "outputs": []
    },
    {
      "cell_type": "code",
      "source": [
        "def insertionSort(seq):\n",
        "  isort(seq,len(seq))\n",
        "\n",
        "def isort(seq,k):\n",
        "  if k>1:\n",
        "    isort(seq,k-1)\n",
        "    insert(seq,k-1)\n",
        "\n",
        "def insert(seq,k):\n",
        "  # for sliceEnd in range(len(seq)):\n",
        "    pos = k\n",
        "    while pos>0 and seq[pos]<seq[pos-1]:\n",
        "      (seq[pos],sep[pos-1]) = (seq[pos-1],seq[pos])\n",
        "      pos = pos - 1\n"
      ],
      "metadata": {
        "id": "Lw9R6iZPJrxV"
      },
      "execution_count": null,
      "outputs": []
    },
    {
      "cell_type": "code",
      "source": [
        ""
      ],
      "metadata": {
        "id": "FzInUWDLMyn4"
      },
      "execution_count": null,
      "outputs": []
    }
  ]
}